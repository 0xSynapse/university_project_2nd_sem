{
 "cells": [
  {
   "cell_type": "code",
   "execution_count": null,
   "metadata": {
    "id": "5xuejxy4LT2i"
   },
   "outputs": [],
   "source": [
    "import pandas as pd\n",
    "import re\n",
    "import numpy as np\n",
    "import matplotlib.pyplot as plt\n",
    "\n",
    "import flask\n",
    "import csv\n",
    "from flask import Flask, render_template, request\n",
    "import difflib\n",
    "import pandas as pd\n",
    "from sklearn.feature_extraction.text import CountVectorizer\n",
    "from sklearn.metrics.pairwise import cosine_similarity\n",
    "import random"
   ]
  },
  {
   "cell_type": "code",
   "execution_count": null,
   "metadata": {
    "id": "JwZudd-1Ley2"
   },
   "outputs": [],
   "source": [
    "import pickle"
   ]
  },
  {
   "cell_type": "code",
   "execution_count": null,
   "metadata": {
    "id": "ccRe8XvvLY0T"
   },
   "outputs": [],
   "source": [
    "#pickle.dump(list1,open('model.pkl','wb'))"
   ]
  },
  {
   "cell_type": "code",
   "execution_count": null,
   "metadata": {
    "id": "2-XbswLYLq_W"
   },
   "outputs": [],
   "source": [
    "ds = pd.read_excel(\"/content/Output.xls\")"
   ]
  },
  {
   "cell_type": "code",
   "execution_count": null,
   "metadata": {
    "colab": {
     "base_uri": "https://localhost:8080/"
    },
    "id": "KJ_sTIwAL_I_",
    "outputId": "2ddb836a-1b43-4e0c-e2c5-336d77cb20eb"
   },
   "outputs": [
    {
     "data": {
      "text/plain": [
       "(886, 11)"
      ]
     },
     "execution_count": 5,
     "metadata": {
      "tags": []
     },
     "output_type": "execute_result"
    }
   ],
   "source": [
    "ds.shape"
   ]
  },
  {
   "cell_type": "code",
   "execution_count": null,
   "metadata": {
    "id": "2UKmN7ZnLrFR"
   },
   "outputs": [],
   "source": [
    "ds = ds.dropna()"
   ]
  },
  {
   "cell_type": "code",
   "execution_count": null,
   "metadata": {
    "colab": {
     "base_uri": "https://localhost:8080/"
    },
    "id": "MP_k_a0mLrHa",
    "outputId": "1c1e5899-f151-4e82-f632-1be07c4f9acd"
   },
   "outputs": [
    {
     "data": {
      "text/plain": [
       "(718, 11)"
      ]
     },
     "execution_count": 7,
     "metadata": {
      "tags": []
     },
     "output_type": "execute_result"
    }
   ],
   "source": [
    "ds.shape"
   ]
  },
  {
   "cell_type": "code",
   "execution_count": null,
   "metadata": {
    "id": "j44wetj3LrKE"
   },
   "outputs": [],
   "source": [
    "def get_important_features(data):\n",
    "  #important_features = []\n",
    "  #for i in range(0,data.shape[0]):\n",
    "    return (str(data['Songs'])+' '+str(data['singer'])+' '+str(data['music'])+' '+str(data['lyricist']))"
   ]
  },
  {
   "cell_type": "code",
   "execution_count": null,
   "metadata": {
    "id": "cBnNr7nALrNr"
   },
   "outputs": [],
   "source": [
    "ds['combined'] = ds.apply(get_important_features,axis=1)"
   ]
  },
  {
   "cell_type": "code",
   "execution_count": null,
   "metadata": {
    "colab": {
     "base_uri": "https://localhost:8080/",
     "height": 445
    },
    "id": "7pkaxjjrMR45",
    "outputId": "e2887332-b2e6-437d-c554-047c9453ce20"
   },
   "outputs": [
    {
     "data": {
      "text/html": [
       "<div>\n",
       "<style scoped>\n",
       "    .dataframe tbody tr th:only-of-type {\n",
       "        vertical-align: middle;\n",
       "    }\n",
       "\n",
       "    .dataframe tbody tr th {\n",
       "        vertical-align: top;\n",
       "    }\n",
       "\n",
       "    .dataframe thead th {\n",
       "        text-align: right;\n",
       "    }\n",
       "</style>\n",
       "<table border=\"1\" class=\"dataframe\">\n",
       "  <thead>\n",
       "    <tr style=\"text-align: right;\">\n",
       "      <th></th>\n",
       "      <th>Video ID</th>\n",
       "      <th>Songs</th>\n",
       "      <th>Artists</th>\n",
       "      <th>singer</th>\n",
       "      <th>music</th>\n",
       "      <th>lyricist</th>\n",
       "      <th>Channel</th>\n",
       "      <th>View_Count</th>\n",
       "      <th>Like_Count</th>\n",
       "      <th>Dislike_Count</th>\n",
       "      <th>Comment_Count</th>\n",
       "      <th>combined</th>\n",
       "    </tr>\n",
       "  </thead>\n",
       "  <tbody>\n",
       "    <tr>\n",
       "      <th>0</th>\n",
       "      <td>kckDWrICC4s</td>\n",
       "      <td>NAZAR LAG JAYEGI</td>\n",
       "      <td>Kamal Raja,Millind Gaba</td>\n",
       "      <td>MilindGaba &amp; KamalRaja</td>\n",
       "      <td>MusicMG</td>\n",
       "      <td>Ikrar,MillindGaba</td>\n",
       "      <td>T-Series</td>\n",
       "      <td>177575589</td>\n",
       "      <td>1612878.0</td>\n",
       "      <td>106200.0</td>\n",
       "      <td>50701.0</td>\n",
       "      <td>NAZAR LAG JAYEGI MilindGaba &amp; KamalRaja MusicM...</td>\n",
       "    </tr>\n",
       "    <tr>\n",
       "      <th>2</th>\n",
       "      <td>HV3-5ivdY88</td>\n",
       "      <td>Bholeynath</td>\n",
       "      <td>Millind Gaba, Ikka, Pallavi Gaba</td>\n",
       "      <td>MillindGaba,Ikka,PallaviGaba</td>\n",
       "      <td>MillindGaba</td>\n",
       "      <td>Ikka</td>\n",
       "      <td>T-Series</td>\n",
       "      <td>65083886</td>\n",
       "      <td>479157.0</td>\n",
       "      <td>28577.0</td>\n",
       "      <td>11609.0</td>\n",
       "      <td>Bholeynath  MillindGaba,Ikka,PallaviGaba Milli...</td>\n",
       "    </tr>\n",
       "    <tr>\n",
       "      <th>3</th>\n",
       "      <td>zyVaheF55SM</td>\n",
       "      <td>Dil Dooba</td>\n",
       "      <td>Aishwarya Rai, Akshaye Kumar</td>\n",
       "      <td>SonuNigam,ShreyaGhoshal</td>\n",
       "      <td>RamSampat</td>\n",
       "      <td>Sameer</td>\n",
       "      <td>T-Series</td>\n",
       "      <td>46336027</td>\n",
       "      <td>260590.0</td>\n",
       "      <td>9634.0</td>\n",
       "      <td>6970.0</td>\n",
       "      <td>Dil Dooba SonuNigam,ShreyaGhoshal RamSampat Sa...</td>\n",
       "    </tr>\n",
       "    <tr>\n",
       "      <th>5</th>\n",
       "      <td>vb7rC7bSDRY</td>\n",
       "      <td>Laal Dupatta</td>\n",
       "      <td>Mika Singh and Anupama Raag</td>\n",
       "      <td>MikaSingh&amp;AnupamaRaag</td>\n",
       "      <td>AnupamaRaag</td>\n",
       "      <td>AnupamaRaag</td>\n",
       "      <td>T-Series</td>\n",
       "      <td>17507816</td>\n",
       "      <td>47293.0</td>\n",
       "      <td>9356.0</td>\n",
       "      <td>1767.0</td>\n",
       "      <td>Laal Dupatta MikaSingh&amp;AnupamaRaag AnupamaRaag...</td>\n",
       "    </tr>\n",
       "    <tr>\n",
       "      <th>6</th>\n",
       "      <td>0zF-yRUdEA0</td>\n",
       "      <td>Deedar De</td>\n",
       "      <td>Abhishek Bacchan</td>\n",
       "      <td>SunidhiChauhan,Krishna</td>\n",
       "      <td>VishalDadlani,ShekharRavjiani</td>\n",
       "      <td>PanchhiJalonvi</td>\n",
       "      <td>T-Series</td>\n",
       "      <td>15314073</td>\n",
       "      <td>64747.0</td>\n",
       "      <td>3308.0</td>\n",
       "      <td>3096.0</td>\n",
       "      <td>Deedar De SunidhiChauhan,Krishna VishalDadlani...</td>\n",
       "    </tr>\n",
       "  </tbody>\n",
       "</table>\n",
       "</div>"
      ],
      "text/plain": [
       "      Video ID  ...                                           combined\n",
       "0  kckDWrICC4s  ...  NAZAR LAG JAYEGI MilindGaba & KamalRaja MusicM...\n",
       "2  HV3-5ivdY88  ...  Bholeynath  MillindGaba,Ikka,PallaviGaba Milli...\n",
       "3  zyVaheF55SM  ...  Dil Dooba SonuNigam,ShreyaGhoshal RamSampat Sa...\n",
       "5  vb7rC7bSDRY  ...  Laal Dupatta MikaSingh&AnupamaRaag AnupamaRaag...\n",
       "6  0zF-yRUdEA0  ...  Deedar De SunidhiChauhan,Krishna VishalDadlani...\n",
       "\n",
       "[5 rows x 12 columns]"
      ]
     },
     "execution_count": 10,
     "metadata": {
      "tags": []
     },
     "output_type": "execute_result"
    }
   ],
   "source": [
    "ds.head()"
   ]
  },
  {
   "cell_type": "code",
   "execution_count": null,
   "metadata": {
    "id": "s4ExLGPWOuTt"
   },
   "outputs": [],
   "source": [
    "ds['Songs'] = ds['Songs'].str.lower()"
   ]
  },
  {
   "cell_type": "code",
   "execution_count": null,
   "metadata": {
    "id": "Qpzd9O1KMR8o"
   },
   "outputs": [],
   "source": [
    "#Convert the text to a matrix of token counts\n",
    "from sklearn.feature_extraction.text import CountVectorizer\n",
    "cm = CountVectorizer().fit_transform(ds['combined'])"
   ]
  },
  {
   "cell_type": "code",
   "execution_count": null,
   "metadata": {
    "colab": {
     "base_uri": "https://localhost:8080/"
    },
    "id": "rEPGvNPRMSAU",
    "outputId": "a27a17d9-df5a-4370-915a-195d8408b64b"
   },
   "outputs": [
    {
     "name": "stdout",
     "output_type": "stream",
     "text": [
      "[[1.         0.2236068  0.         ... 0.         0.         0.        ]\n",
      " [0.2236068  1.         0.         ... 0.         0.         0.        ]\n",
      " [0.         0.         1.         ... 0.12909944 0.12309149 0.        ]\n",
      " ...\n",
      " [0.         0.         0.12909944 ... 1.         0.         0.3354102 ]\n",
      " [0.         0.         0.12309149 ... 0.         1.         0.        ]\n",
      " [0.         0.         0.         ... 0.3354102  0.         1.        ]]\n"
     ]
    }
   ],
   "source": [
    "#Get the cosine similarity matrix from the count matrix\n",
    "from sklearn.metrics.pairwise import cosine_similarity\n",
    "cs = cosine_similarity(cm)\n",
    "#Print the cosine similarity\n",
    "print(cs)"
   ]
  },
  {
   "cell_type": "code",
   "execution_count": null,
   "metadata": {
    "id": "w_B37YvhPUM1"
   },
   "outputs": [],
   "source": [
    "pickle.dump(ds,open('modelds.pkl','wb'))\n",
    "pickle.dump(cs,open('modelcs.pkl','wb'))"
   ]
  },
  {
   "cell_type": "code",
   "execution_count": null,
   "metadata": {
    "id": "e6r8AFEsPho3"
   },
   "outputs": [],
   "source": [
    "modelds = pickle.load(open('modelds.pkl','rb'))\n",
    "modelcs = pickle.load(open('modelcs.pkl','rb'))"
   ]
  },
  {
   "cell_type": "code",
   "execution_count": null,
   "metadata": {
    "colab": {
     "base_uri": "https://localhost:8080/"
    },
    "id": "CMCdV8OBYw8Q",
    "outputId": "3ff5a253-6db8-4dd2-8c68-5e3a23b89a5b"
   },
   "outputs": [
    {
     "name": "stdout",
     "output_type": "stream",
     "text": [
      "Requirement already satisfied: flask-ngrok in /usr/local/lib/python3.7/dist-packages (0.0.25)\n",
      "Requirement already satisfied: Flask>=0.8 in /usr/local/lib/python3.7/dist-packages (from flask-ngrok) (1.1.4)\n",
      "Requirement already satisfied: requests in /usr/local/lib/python3.7/dist-packages (from flask-ngrok) (2.23.0)\n",
      "Requirement already satisfied: Werkzeug<2.0,>=0.15 in /usr/local/lib/python3.7/dist-packages (from Flask>=0.8->flask-ngrok) (1.0.1)\n",
      "Requirement already satisfied: Jinja2<3.0,>=2.10.1 in /usr/local/lib/python3.7/dist-packages (from Flask>=0.8->flask-ngrok) (2.11.3)\n",
      "Requirement already satisfied: click<8.0,>=5.1 in /usr/local/lib/python3.7/dist-packages (from Flask>=0.8->flask-ngrok) (7.1.2)\n",
      "Requirement already satisfied: itsdangerous<2.0,>=0.24 in /usr/local/lib/python3.7/dist-packages (from Flask>=0.8->flask-ngrok) (1.1.0)\n",
      "Requirement already satisfied: certifi>=2017.4.17 in /usr/local/lib/python3.7/dist-packages (from requests->flask-ngrok) (2021.5.30)\n",
      "Requirement already satisfied: idna<3,>=2.5 in /usr/local/lib/python3.7/dist-packages (from requests->flask-ngrok) (2.10)\n",
      "Requirement already satisfied: chardet<4,>=3.0.2 in /usr/local/lib/python3.7/dist-packages (from requests->flask-ngrok) (3.0.4)\n",
      "Requirement already satisfied: urllib3!=1.25.0,!=1.25.1,<1.26,>=1.21.1 in /usr/local/lib/python3.7/dist-packages (from requests->flask-ngrok) (1.24.3)\n",
      "Requirement already satisfied: MarkupSafe>=0.23 in /usr/local/lib/python3.7/dist-packages (from Jinja2<3.0,>=2.10.1->Flask>=0.8->flask-ngrok) (2.0.1)\n"
     ]
    }
   ],
   "source": [
    "!pip install flask-ngrok"
   ]
  },
  {
   "cell_type": "code",
   "execution_count": null,
   "metadata": {
    "colab": {
     "base_uri": "https://localhost:8080/"
    },
    "id": "PYPZqXnXYeje",
    "outputId": "6ccd4676-054c-4b78-d7cd-3537c569bafa"
   },
   "outputs": [
    {
     "name": "stdout",
     "output_type": "stream",
     "text": [
      " * Serving Flask app \"__main__\" (lazy loading)\n",
      " * Environment: production\n",
      "\u001b[31m   WARNING: This is a development server. Do not use it in a production deployment.\u001b[0m\n",
      "\u001b[2m   Use a production WSGI server instead.\u001b[0m\n",
      " * Debug mode: off\n"
     ]
    },
    {
     "name": "stderr",
     "output_type": "stream",
     "text": [
      " * Running on http://127.0.0.1:5000/ (Press CTRL+C to quit)\n"
     ]
    },
    {
     "name": "stdout",
     "output_type": "stream",
     "text": [
      " * Running on http://6d9dee6ebe10.ngrok.io\n",
      " * Traffic stats available on http://127.0.0.1:4040\n"
     ]
    },
    {
     "name": "stderr",
     "output_type": "stream",
     "text": [
      "127.0.0.1 - - [20/Jun/2021 12:59:41] \"\u001b[37mGET / HTTP/1.1\u001b[0m\" 200 -\n",
      "127.0.0.1 - - [20/Jun/2021 12:59:41] \"\u001b[33mGET /static/css/style.css HTTP/1.1\u001b[0m\" 404 -\n",
      "127.0.0.1 - - [20/Jun/2021 12:59:41] \"\u001b[33mGET /width=%22250%22 HTTP/1.1\u001b[0m\" 404 -\n",
      "127.0.0.1 - - [20/Jun/2021 12:59:41] \"\u001b[33mGET /width=%22250%22 HTTP/1.1\u001b[0m\" 404 -\n",
      "127.0.0.1 - - [20/Jun/2021 12:59:42] \"\u001b[33mGET /width=%22250%22 HTTP/1.1\u001b[0m\" 404 -\n",
      "127.0.0.1 - - [20/Jun/2021 12:59:42] \"\u001b[33mGET /favicon.ico HTTP/1.1\u001b[0m\" 404 -\n"
     ]
    }
   ],
   "source": [
    "from flask import Flask, request, jsonify, render_template\n",
    "import pickle\n",
    "from flask_ngrok import run_with_ngrok\n",
    "app = Flask(__name__)\n",
    "run_with_ngrok(app) \n",
    "#app = Flask(__name__)\n",
    "\n",
    "@app.route('/')\n",
    "def home():\n",
    "    return render_template('index.html')\n",
    "\n",
    "@app.route('/submit',methods=['GET','POST'])\n",
    "def submit():\n",
    "    ds = pickle.load(open('modelds.pkl', 'rb'))\n",
    "    cosine_sim = pickle.load(open('modelcs.pkl','rb'))\n",
    "    song = request.form['song']\n",
    "    print(\"Hi\")\n",
    "    ds1 = ds.reset_index()\n",
    "    print(\"Hi5\")\n",
    "    indices = pd.Series(ds1.index, index=ds1['Songs'])\n",
    "    print(\"Hi1\")\n",
    "    song=song.lower()\n",
    "    for  title in ds1[\"Songs\"] :\n",
    "      if(str(song) in str(title)) :\n",
    "        break\n",
    "    idx = indices[title]\n",
    "    print(\"Hi2\")\n",
    "    sim_scores = list(enumerate(cosine_sim[idx]))\n",
    "    sim_scores = sorted(sim_scores, key=lambda x: x[1], reverse=True)\n",
    "    sim_scores = sim_scores[1:11]\n",
    "    l1=[]\n",
    "    for i in sim_scores:\n",
    "      l1.append('https://www.youtube.com/embed/'+ds['Video ID'].iloc[i[0]])\n",
    "    return render_template('index.html', video1=str(l1[0]),video2=str(l1[1]),video3=str(l1[2]))\n",
    "\n",
    "\n",
    "if __name__ == \"__main__\":\n",
    "    app.run()"
   ]
  },
  {
   "cell_type": "code",
   "execution_count": null,
   "metadata": {
    "id": "qarZI8u8SAMH"
   },
   "outputs": [],
   "source": [
    "from google.colab import drive\n",
    "drive.mount('/content/drive')"
   ]
  },
  {
   "cell_type": "code",
   "execution_count": null,
   "metadata": {
    "id": "BmF6Tx4gYenC"
   },
   "outputs": [],
   "source": []
  }
 ],
 "metadata": {
  "colab": {
   "collapsed_sections": [],
   "name": "YouTubeModel.ipynb",
   "provenance": []
  },
  "kernelspec": {
   "display_name": "Python 3",
   "language": "python",
   "name": "python3"
  },
  "language_info": {
   "codemirror_mode": {
    "name": "ipython",
    "version": 3
   },
   "file_extension": ".py",
   "mimetype": "text/x-python",
   "name": "python",
   "nbconvert_exporter": "python",
   "pygments_lexer": "ipython3",
   "version": "3.8.3"
  }
 },
 "nbformat": 4,
 "nbformat_minor": 1
}
